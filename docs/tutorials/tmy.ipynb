{
 "cells": [
  {
   "cell_type": "markdown",
   "metadata": {},
   "source": [
    "# TMY tutorial\n",
    "\n",
    "This tutorial shows how to use the ``pvlib.tmy`` module to read data from TMY2 and TMY3 files.\n",
    "\n",
    "This tutorial has been tested against the following package versions:\n",
    "* pvlib 0.3.0\n",
    "* Python 3.5.1\n",
    "* IPython 4.1\n",
    "* pandas 0.18.0\n",
    "\n",
    "Authors:\n",
    "* Will Holmgren (@wholmgren), University of Arizona. July 2014, July 2015, March 2016."
   ]
  },
  {
   "cell_type": "markdown",
   "metadata": {},
   "source": [
    "## Import modules"
   ]
  },
  {
   "cell_type": "code",
   "execution_count": 1,
   "metadata": {},
   "outputs": [],
   "source": [
    "# built in python modules\n",
    "import datetime\n",
    "import os\n",
    "import inspect\n",
    "\n",
    "# python add-ons\n",
    "import numpy as np\n",
    "import pandas as pd\n",
    "\n",
    "# plotting libraries\n",
    "%matplotlib inline\n",
    "import matplotlib.pyplot as plt\n",
    "try:\n",
    "    import seaborn as sns\n",
    "except ImportError:\n",
    "    pass\n",
    "\n",
    "import pvlib"
   ]
  },
  {
   "cell_type": "markdown",
   "metadata": {},
   "source": [
    "pvlib comes packaged with a TMY2 and a TMY3 data file."
   ]
  },
  {
   "cell_type": "code",
   "execution_count": 2,
   "metadata": {},
   "outputs": [],
   "source": [
    "# Find the absolute file path to your pvlib installation\n",
    "pvlib_abspath = os.path.dirname(os.path.abspath(inspect.getfile(pvlib)))"
   ]
  },
  {
   "cell_type": "markdown",
   "metadata": {},
   "source": [
    "Import the TMY data using the functions in the ``pvlib.tmy`` module."
   ]
  },
  {
   "cell_type": "code",
   "execution_count": 3,
   "metadata": {},
   "outputs": [],
   "source": [
    "tmy3_data, tmy3_metadata = pvlib.tmy.readtmy3(os.path.join(pvlib_abspath, 'data', '703165TY.csv'))\n",
    "tmy2_data, tmy2_metadata = pvlib.tmy.readtmy2(os.path.join(pvlib_abspath, 'data', '12839.tm2'))"
   ]
  },
  {
   "cell_type": "markdown",
   "metadata": {},
   "source": [
    "Print the TMY3 metadata and the first 5 lines of the data."
   ]
  },
  {
   "cell_type": "code",
   "execution_count": 4,
   "metadata": {},
   "outputs": [
    {
     "name": "stdout",
     "output_type": "stream",
     "text": [
      "{'USAF': 703165, 'Name': '\"SAND POINT\"', 'State': 'AK', 'TZ': -9.0, 'latitude': 55.317, 'longitude': -160.517, 'altitude': 7.0}\n"
     ]
    },
    {
     "data": {
      "text/html": [
       "<div>\n",
       "<style scoped>\n",
       "    .dataframe tbody tr th:only-of-type {\n",
       "        vertical-align: middle;\n",
       "    }\n",
       "\n",
       "    .dataframe tbody tr th {\n",
       "        vertical-align: top;\n",
       "    }\n",
       "\n",
       "    .dataframe thead th {\n",
       "        text-align: right;\n",
       "    }\n",
       "</style>\n",
       "<table border=\"1\" class=\"dataframe\">\n",
       "  <thead>\n",
       "    <tr style=\"text-align: right;\">\n",
       "      <th></th>\n",
       "      <th>ETR</th>\n",
       "      <th>ETRN</th>\n",
       "      <th>GHI</th>\n",
       "      <th>GHISource</th>\n",
       "      <th>GHIUncertainty</th>\n",
       "      <th>DNI</th>\n",
       "      <th>DNISource</th>\n",
       "      <th>DNIUncertainty</th>\n",
       "      <th>DHI</th>\n",
       "      <th>DHISource</th>\n",
       "      <th>...</th>\n",
       "      <th>AOD</th>\n",
       "      <th>AODSource</th>\n",
       "      <th>AODUncertainty</th>\n",
       "      <th>Alb</th>\n",
       "      <th>AlbSource</th>\n",
       "      <th>AlbUncertainty</th>\n",
       "      <th>Lprecipdepth</th>\n",
       "      <th>Lprecipquantity</th>\n",
       "      <th>LprecipSource</th>\n",
       "      <th>LprecipUncertainty</th>\n",
       "    </tr>\n",
       "    <tr>\n",
       "      <th>datetime</th>\n",
       "      <th></th>\n",
       "      <th></th>\n",
       "      <th></th>\n",
       "      <th></th>\n",
       "      <th></th>\n",
       "      <th></th>\n",
       "      <th></th>\n",
       "      <th></th>\n",
       "      <th></th>\n",
       "      <th></th>\n",
       "      <th></th>\n",
       "      <th></th>\n",
       "      <th></th>\n",
       "      <th></th>\n",
       "      <th></th>\n",
       "      <th></th>\n",
       "      <th></th>\n",
       "      <th></th>\n",
       "      <th></th>\n",
       "      <th></th>\n",
       "      <th></th>\n",
       "    </tr>\n",
       "  </thead>\n",
       "  <tbody>\n",
       "    <tr>\n",
       "      <th>1997-01-01 01:00:00-09:00</th>\n",
       "      <td>0</td>\n",
       "      <td>0</td>\n",
       "      <td>0</td>\n",
       "      <td>1</td>\n",
       "      <td>0</td>\n",
       "      <td>0</td>\n",
       "      <td>1</td>\n",
       "      <td>0</td>\n",
       "      <td>0</td>\n",
       "      <td>1</td>\n",
       "      <td>...</td>\n",
       "      <td>0.051</td>\n",
       "      <td>F</td>\n",
       "      <td>8</td>\n",
       "      <td>0.24</td>\n",
       "      <td>F</td>\n",
       "      <td>8</td>\n",
       "      <td>-9900</td>\n",
       "      <td>-9900</td>\n",
       "      <td>?</td>\n",
       "      <td>0</td>\n",
       "    </tr>\n",
       "    <tr>\n",
       "      <th>1997-01-01 02:00:00-09:00</th>\n",
       "      <td>0</td>\n",
       "      <td>0</td>\n",
       "      <td>0</td>\n",
       "      <td>1</td>\n",
       "      <td>0</td>\n",
       "      <td>0</td>\n",
       "      <td>1</td>\n",
       "      <td>0</td>\n",
       "      <td>0</td>\n",
       "      <td>1</td>\n",
       "      <td>...</td>\n",
       "      <td>0.051</td>\n",
       "      <td>F</td>\n",
       "      <td>8</td>\n",
       "      <td>0.24</td>\n",
       "      <td>F</td>\n",
       "      <td>8</td>\n",
       "      <td>-9900</td>\n",
       "      <td>-9900</td>\n",
       "      <td>?</td>\n",
       "      <td>0</td>\n",
       "    </tr>\n",
       "    <tr>\n",
       "      <th>1997-01-01 03:00:00-09:00</th>\n",
       "      <td>0</td>\n",
       "      <td>0</td>\n",
       "      <td>0</td>\n",
       "      <td>1</td>\n",
       "      <td>0</td>\n",
       "      <td>0</td>\n",
       "      <td>1</td>\n",
       "      <td>0</td>\n",
       "      <td>0</td>\n",
       "      <td>1</td>\n",
       "      <td>...</td>\n",
       "      <td>0.051</td>\n",
       "      <td>F</td>\n",
       "      <td>8</td>\n",
       "      <td>0.24</td>\n",
       "      <td>F</td>\n",
       "      <td>8</td>\n",
       "      <td>-9900</td>\n",
       "      <td>-9900</td>\n",
       "      <td>?</td>\n",
       "      <td>0</td>\n",
       "    </tr>\n",
       "    <tr>\n",
       "      <th>1997-01-01 04:00:00-09:00</th>\n",
       "      <td>0</td>\n",
       "      <td>0</td>\n",
       "      <td>0</td>\n",
       "      <td>1</td>\n",
       "      <td>0</td>\n",
       "      <td>0</td>\n",
       "      <td>1</td>\n",
       "      <td>0</td>\n",
       "      <td>0</td>\n",
       "      <td>1</td>\n",
       "      <td>...</td>\n",
       "      <td>0.051</td>\n",
       "      <td>F</td>\n",
       "      <td>8</td>\n",
       "      <td>0.24</td>\n",
       "      <td>F</td>\n",
       "      <td>8</td>\n",
       "      <td>-9900</td>\n",
       "      <td>-9900</td>\n",
       "      <td>?</td>\n",
       "      <td>0</td>\n",
       "    </tr>\n",
       "    <tr>\n",
       "      <th>1997-01-01 05:00:00-09:00</th>\n",
       "      <td>0</td>\n",
       "      <td>0</td>\n",
       "      <td>0</td>\n",
       "      <td>1</td>\n",
       "      <td>0</td>\n",
       "      <td>0</td>\n",
       "      <td>1</td>\n",
       "      <td>0</td>\n",
       "      <td>0</td>\n",
       "      <td>1</td>\n",
       "      <td>...</td>\n",
       "      <td>0.051</td>\n",
       "      <td>F</td>\n",
       "      <td>8</td>\n",
       "      <td>0.24</td>\n",
       "      <td>F</td>\n",
       "      <td>8</td>\n",
       "      <td>-9900</td>\n",
       "      <td>-9900</td>\n",
       "      <td>?</td>\n",
       "      <td>0</td>\n",
       "    </tr>\n",
       "  </tbody>\n",
       "</table>\n",
       "<p>5 rows × 66 columns</p>\n",
       "</div>"
      ],
      "text/plain": [
       "                           ETR  ETRN  GHI  GHISource  GHIUncertainty  DNI  \\\n",
       "datetime                                                                    \n",
       "1997-01-01 01:00:00-09:00    0     0    0          1               0    0   \n",
       "1997-01-01 02:00:00-09:00    0     0    0          1               0    0   \n",
       "1997-01-01 03:00:00-09:00    0     0    0          1               0    0   \n",
       "1997-01-01 04:00:00-09:00    0     0    0          1               0    0   \n",
       "1997-01-01 05:00:00-09:00    0     0    0          1               0    0   \n",
       "\n",
       "                           DNISource  DNIUncertainty  DHI  DHISource  \\\n",
       "datetime                                                               \n",
       "1997-01-01 01:00:00-09:00          1               0    0          1   \n",
       "1997-01-01 02:00:00-09:00          1               0    0          1   \n",
       "1997-01-01 03:00:00-09:00          1               0    0          1   \n",
       "1997-01-01 04:00:00-09:00          1               0    0          1   \n",
       "1997-01-01 05:00:00-09:00          1               0    0          1   \n",
       "\n",
       "                                  ...            AOD  AODSource  \\\n",
       "datetime                          ...                             \n",
       "1997-01-01 01:00:00-09:00         ...          0.051          F   \n",
       "1997-01-01 02:00:00-09:00         ...          0.051          F   \n",
       "1997-01-01 03:00:00-09:00         ...          0.051          F   \n",
       "1997-01-01 04:00:00-09:00         ...          0.051          F   \n",
       "1997-01-01 05:00:00-09:00         ...          0.051          F   \n",
       "\n",
       "                           AODUncertainty   Alb  AlbSource  AlbUncertainty  \\\n",
       "datetime                                                                     \n",
       "1997-01-01 01:00:00-09:00               8  0.24          F               8   \n",
       "1997-01-01 02:00:00-09:00               8  0.24          F               8   \n",
       "1997-01-01 03:00:00-09:00               8  0.24          F               8   \n",
       "1997-01-01 04:00:00-09:00               8  0.24          F               8   \n",
       "1997-01-01 05:00:00-09:00               8  0.24          F               8   \n",
       "\n",
       "                           Lprecipdepth  Lprecipquantity  LprecipSource  \\\n",
       "datetime                                                                  \n",
       "1997-01-01 01:00:00-09:00         -9900            -9900              ?   \n",
       "1997-01-01 02:00:00-09:00         -9900            -9900              ?   \n",
       "1997-01-01 03:00:00-09:00         -9900            -9900              ?   \n",
       "1997-01-01 04:00:00-09:00         -9900            -9900              ?   \n",
       "1997-01-01 05:00:00-09:00         -9900            -9900              ?   \n",
       "\n",
       "                           LprecipUncertainty  \n",
       "datetime                                       \n",
       "1997-01-01 01:00:00-09:00                   0  \n",
       "1997-01-01 02:00:00-09:00                   0  \n",
       "1997-01-01 03:00:00-09:00                   0  \n",
       "1997-01-01 04:00:00-09:00                   0  \n",
       "1997-01-01 05:00:00-09:00                   0  \n",
       "\n",
       "[5 rows x 66 columns]"
      ]
     },
     "execution_count": 4,
     "metadata": {},
     "output_type": "execute_result"
    }
   ],
   "source": [
    "print(tmy3_metadata)\n",
    "tmy3_data.head(5)"
   ]
  },
  {
   "cell_type": "code",
   "execution_count": 5,
   "metadata": {},
   "outputs": [
    {
     "data": {
      "text/plain": [
       "<matplotlib.axes._subplots.AxesSubplot at 0x1175fa6d8>"
      ]
     },
     "execution_count": 5,
     "metadata": {},
     "output_type": "execute_result"
    },
    {
     "data": {
      "image/png": "[encoded data removed]",
      "text/plain": [
       "<Figure size 432x288 with 1 Axes>"
      ]
     },
     "metadata": {},
     "output_type": "display_data"
    }
   ],
   "source": [
    "tmy3_data['GHI'].plot()"
   ]
  },
  {
   "cell_type": "markdown",
   "metadata": {},
   "source": [
    "The TMY readers have an optional argument to coerce the year to a single value."
   ]
  },
  {
   "cell_type": "code",
   "execution_count": 6,
   "metadata": {},
   "outputs": [],
   "source": [
    "tmy3_data, tmy3_metadata = pvlib.tmy.readtmy3(os.path.join(pvlib_abspath, 'data', '703165TY.csv'), coerce_year=1987)"
   ]
  },
  {
   "cell_type": "code",
   "execution_count": 7,
   "metadata": {},
   "outputs": [
    {
     "data": {
      "text/plain": [
       "<matplotlib.axes._subplots.AxesSubplot at 0x116df3c88>"
      ]
     },
     "execution_count": 7,
     "metadata": {},
     "output_type": "execute_result"
    },
    {
     "data": {
      "image/png": "[encoded data removed]",
      "text/plain": [
       "<Figure size 432x288 with 1 Axes>"
      ]
     },
     "metadata": {},
     "output_type": "display_data"
    }
   ],
   "source": [
    "tmy3_data['GHI'].plot()"
   ]
  },
  {
   "cell_type": "markdown",
   "metadata": {},
   "source": [
    "Here's the TMY2 data."
   ]
  },
  {
   "cell_type": "code",
   "execution_count": 8,
   "metadata": {},
   "outputs": [
    {
     "name": "stdout",
     "output_type": "stream",
     "text": [
      "{'WBAN': '12839', 'City': 'MIAMI', 'State': 'FL', 'TZ': -5, 'latitude': 25.8, 'longitude': -80.26666666666667, 'altitude': 2.0}\n",
      "                           year  month  day  hour  ETR  ETRN  GHI GHISource  \\\n",
      "1962-01-01 00:00:00-05:00  62.0    1.0  1.0   1.0  0.0   0.0  0.0         ?   \n",
      "1962-01-01 01:00:00-05:00  62.0    1.0  1.0   2.0  0.0   0.0  0.0         ?   \n",
      "1962-01-01 02:00:00-05:00  62.0    1.0  1.0   3.0  0.0   0.0  0.0         ?   \n",
      "1962-01-01 03:00:00-05:00  62.0    1.0  1.0   4.0  0.0   0.0  0.0         ?   \n",
      "1962-01-01 04:00:00-05:00  62.0    1.0  1.0   5.0  0.0   0.0  0.0         ?   \n",
      "\n",
      "                           GHIUncertainty  DNI          ...            \\\n",
      "1962-01-01 00:00:00-05:00             0.0  0.0          ...             \n",
      "1962-01-01 01:00:00-05:00             0.0  0.0          ...             \n",
      "1962-01-01 02:00:00-05:00             0.0  0.0          ...             \n",
      "1962-01-01 03:00:00-05:00             0.0  0.0          ...             \n",
      "1962-01-01 04:00:00-05:00             0.0  0.0          ...             \n",
      "\n",
      "                          PwatUncertainty   AOD  AODSource AODUncertainty  \\\n",
      "1962-01-01 00:00:00-05:00             8.0  62.0          F            8.0   \n",
      "1962-01-01 01:00:00-05:00             8.0  62.0          F            8.0   \n",
      "1962-01-01 02:00:00-05:00             8.0  62.0          F            8.0   \n",
      "1962-01-01 03:00:00-05:00             8.0  62.0          F            8.0   \n",
      "1962-01-01 04:00:00-05:00             8.0  62.0          F            8.0   \n",
      "\n",
      "                           SnowDepth  SnowDepthSource SnowDepthUncertainty  \\\n",
      "1962-01-01 00:00:00-05:00        0.0                A                  7.0   \n",
      "1962-01-01 01:00:00-05:00        0.0                A                  7.0   \n",
      "1962-01-01 02:00:00-05:00        0.0                A                  7.0   \n",
      "1962-01-01 03:00:00-05:00        0.0                A                  7.0   \n",
      "1962-01-01 04:00:00-05:00        0.0                A                  7.0   \n",
      "\n",
      "                           LastSnowfall  LastSnowfallSource  \\\n",
      "1962-01-01 00:00:00-05:00          88.0                   E   \n",
      "1962-01-01 01:00:00-05:00          88.0                   E   \n",
      "1962-01-01 02:00:00-05:00          88.0                   E   \n",
      "1962-01-01 03:00:00-05:00          88.0                   E   \n",
      "1962-01-01 04:00:00-05:00          88.0                   E   \n",
      "\n",
      "                          LastSnowfallUncertaint  \n",
      "1962-01-01 00:00:00-05:00                    7.0  \n",
      "1962-01-01 01:00:00-05:00                    7.0  \n",
      "1962-01-01 02:00:00-05:00                    7.0  \n",
      "1962-01-01 03:00:00-05:00                    7.0  \n",
      "1962-01-01 04:00:00-05:00                    7.0  \n",
      "\n",
      "[5 rows x 70 columns]\n"
     ]
    }
   ],
   "source": [
    "print(tmy2_metadata)\n",
    "print(tmy2_data.head())"
   ]
  },
  {
   "cell_type": "markdown",
   "metadata": {},
   "source": [
    "Finally, the TMY readers can access TMY files directly from the NREL website."
   ]
  },
  {
   "cell_type": "code",
   "execution_count": 9,
   "metadata": {},
   "outputs": [],
   "source": [
    "tmy3_data, tmy3_metadata = pvlib.tmy.readtmy3('http://rredc.nrel.gov/solar/old_data/nsrdb/1991-2005/data/tmy3/722740TYA.CSV', coerce_year=2015)"
   ]
  },
  {
   "cell_type": "code",
   "execution_count": 10,
   "metadata": {},
   "outputs": [
    {
     "data": {
      "text/plain": [
       "Text(0.5,1,'Tucson TMY GHI')"
      ]
     },
     "execution_count": 10,
     "metadata": {},
     "output_type": "execute_result"
    },
    {
     "data": {
      "image/png": "[encoded data removed]",
      "text/plain": [
       "<Figure size 864x432 with 1 Axes>"
      ]
     },
     "metadata": {},
     "output_type": "display_data"
    }
   ],
   "source": [
    "tmy3_data['GHI'].plot(figsize=(12,6))\n",
    "plt.title('Tucson TMY GHI')"
   ]
  },
  {
   "cell_type": "code",
   "execution_count": null,
   "metadata": {},
   "outputs": [],
   "source": []
  }
 ],
 "metadata": {
  "kernelspec": {
   "display_name": "Python 3",
   "language": "python",
   "name": "python3"
  },
  "language_info": {
   "codemirror_mode": {
    "name": "ipython",
    "version": 3
   },
   "file_extension": ".py",
   "mimetype": "text/x-python",
   "name": "python",
   "nbconvert_exporter": "python",
   "pygments_lexer": "ipython3",
   "version": "3.6.5"
  }
 },
 "nbformat": 4,
 "nbformat_minor": 1
}
